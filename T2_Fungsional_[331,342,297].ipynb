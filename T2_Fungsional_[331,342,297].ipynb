{
 "cells": [
  {
   "cell_type": "code",
   "execution_count": 2,
   "id": "fcc45a65",
   "metadata": {},
   "outputs": [
    {
     "name": "stdout",
     "output_type": "stream",
     "text": [
      "[1, 3, 5, 7, 9, 11, 13, 15]\n",
      "9\n",
      "['tuplem', 'list']\n",
      "[13, 15]\n",
      "[7, 9, 11]\n",
      "8\n",
      "data awal [1, 3, 5, 7, 9, 11, 13, 15]\n",
      "data akhir [1, ('ya', 'tidak'), 5, 7, 9, 11, 13, 15]\n",
      "[1, ('ya', 'tidak'), 5, 7, 9, 11, 13, 15, 13, 15, 17, 19, 21, 23, 25]\n"
     ]
    }
   ],
   "source": [
    "# List\n",
    "# Muhammad Zidan Arrasyid | 202110370311331\n",
    "data1 = [1,3,5,7,9,11,13,15]\n",
    "data2 = [['dic','tuplem','list'],['c','c++','java']]\n",
    "\n",
    "# tampilkan semua data\n",
    "print (data1)\n",
    "\n",
    "# tampilkan index 4\n",
    "print (data1[4])\n",
    "\n",
    "# tampilkan  list ke 0 data ke 1\n",
    "print (data2[0][1:])\n",
    "\n",
    "# tampilkan potongan mulai index 6\n",
    "print (data1[6:])\n",
    "\n",
    "# tampilkan potongan mulai index 3 sampai index 6\n",
    "print (data1[3:6])\n",
    "\n",
    "# total semua data\n",
    "print (len(data1))\n",
    "\n",
    "# mengubah anggota\n",
    "print (\"data awal\",data1)\n",
    "(data1[1])= 'ya','tidak'\n",
    "print (\"data akhir\",data1)\n",
    "\n",
    "# penambahan data\n",
    "print (data1 +[13,15,17,19,21,23,25])"
   ]
  },
  {
   "cell_type": "code",
   "execution_count": 3,
   "id": "05b93d16",
   "metadata": {},
   "outputs": [
    {
     "name": "stdout",
     "output_type": "stream",
     "text": [
      "('Sepeda Motor', 'Mobil', 'Rumah')\n",
      "('Sepeda Motor', 'Mobil', 'Rumah')\n",
      "(1, 2, 3)\n",
      "<class 'tuple'>\n",
      "<class 'tuple'>\n",
      "<class 'tuple'>\n"
     ]
    }
   ],
   "source": [
    "# Tuple\n",
    "# Nuarastu Rangga Wijaya | 202110370311342\n",
    "tuple1 = ('Sepeda Motor', 'Mobil', 'Rumah')\n",
    "tuple2 = 'Sepeda Motor', 'Mobil', 'Rumah'\n",
    "tuple3 = 1, 2, 3\n",
    "\n",
    "# menampilkan data tuple\n",
    "print(tuple1)\n",
    "print(tuple2)\n",
    "print(tuple3)\n",
    "\n",
    "# mengecek tipe data tuple\n",
    "print(type(tuple1))\n",
    "print(type(tuple2))\n",
    "print(type(tuple3))\n"
   ]
  },
  {
   "cell_type": "code",
   "execution_count": 4,
   "id": "3d28be82",
   "metadata": {},
   "outputs": [
    {
     "name": "stdout",
     "output_type": "stream",
     "text": [
      "{'name': 'i-Lab', 'platform': 'Mobile Android', 'developer': 'Infotech', 'release_year': 2022, 'active': True}\n",
      "Mobile Android\n",
      "i-Lab\n",
      "5\n",
      "<class 'dict'>\n",
      "dict_keys(['name', 'age'])\n",
      "dict_values(['Izza', 20])\n",
      "dict_items([('name', 'Izza'), ('age', 20)])\n"
     ]
    }
   ],
   "source": [
    "# DICTIONARIES\n",
    "# IZZA IHSAN FATHONY | 202110370311297\n",
    "thisApp = {\n",
    "    \"name\": \"i-Lab\",\n",
    "    \"platform\": \"Mobile Android\",\n",
    "    \"developer\": \"Infotech\",\n",
    "    \"release_year\": 2022,\n",
    "    \"active\": True\n",
    "}\n",
    "\n",
    "# print dictionaries\n",
    "print(thisApp)\n",
    "\n",
    "# print specific value on dictionaries\n",
    "print(thisApp[\"platform\"])\n",
    "print(thisApp.get(\"name\"))\n",
    "\n",
    "# check length dictionaries\n",
    "print(len(thisApp))\n",
    "\n",
    "# dictionaries are object name \"dict\"\n",
    "print(type(thisApp))\n",
    "\n",
    "# make dictionaries with dict()\n",
    "thisPerson = dict(name = \"Izza\", age = 20)\n",
    "\n",
    "# return all keys in the dictionary\n",
    "print(thisPerson.keys())\n",
    "\n",
    "# return all values in the dictionary\n",
    "print(thisPerson.values())\n",
    "\n",
    "# return each item as tuples in a list\n",
    "print(thisPerson.items())\n",
    "\n",
    "# set default value\n",
    "thisPerson.setdefault(\"name\", \"Fathony\")\n",
    "\n",
    "# update values\n",
    "thisPerson.update({\"age\": 21})\n",
    "\n",
    "# remove key\n",
    "thisApp.pop(\"platform\")\n",
    "\n",
    "# remove last key\n",
    "thisApp.popitem()\n",
    "\n",
    "# empties the dictionary but the variable is still there\n",
    "thisPerson.clear()\n",
    "\n",
    "# copy dictionary with copy() or dict()\n",
    "y = thisPerson.copy()\n",
    "z = dict(thisPerson)\n",
    "\n",
    "# create dictionaries with keys with the same value\n",
    "a = (\"number1\", \"number2\")\n",
    "b = 0\n",
    "\n",
    "thisNumber = dict.fromkeys(a, b)"
   ]
  },
  {
   "cell_type": "code",
   "execution_count": null,
   "id": "91d5d586",
   "metadata": {},
   "outputs": [],
   "source": []
  }
 ],
 "metadata": {
  "kernelspec": {
   "display_name": "Python 3 (ipykernel)",
   "language": "python",
   "name": "python3"
  },
  "language_info": {
   "codemirror_mode": {
    "name": "ipython",
    "version": 3
   },
   "file_extension": ".py",
   "mimetype": "text/x-python",
   "name": "python",
   "nbconvert_exporter": "python",
   "pygments_lexer": "ipython3",
   "version": "3.11.3"
  }
 },
 "nbformat": 4,
 "nbformat_minor": 5
}
